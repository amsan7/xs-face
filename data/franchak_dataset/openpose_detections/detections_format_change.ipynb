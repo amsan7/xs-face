{
 "cells": [
  {
   "cell_type": "code",
   "execution_count": 1,
   "metadata": {
    "collapsed": true
   },
   "outputs": [],
   "source": [
    "import pandas as pd"
   ]
  },
  {
   "cell_type": "code",
   "execution_count": 2,
   "metadata": {},
   "outputs": [
    {
     "data": {
      "text/html": [
       "<div>\n",
       "<style scoped>\n",
       "    .dataframe tbody tr th:only-of-type {\n",
       "        vertical-align: middle;\n",
       "    }\n",
       "\n",
       "    .dataframe tbody tr th {\n",
       "        vertical-align: top;\n",
       "    }\n",
       "\n",
       "    .dataframe thead th {\n",
       "        text-align: right;\n",
       "    }\n",
       "</style>\n",
       "<table border=\"1\" class=\"dataframe\">\n",
       "  <thead>\n",
       "    <tr style=\"text-align: right;\">\n",
       "      <th></th>\n",
       "      <th>vid_name</th>\n",
       "      <th>vid_path</th>\n",
       "      <th>frame</th>\n",
       "      <th>op_file</th>\n",
       "      <th>nose_conf</th>\n",
       "      <th>wrist_conf</th>\n",
       "      <th>face_openpose</th>\n",
       "      <th>hand_openpose</th>\n",
       "    </tr>\n",
       "  </thead>\n",
       "  <tbody>\n",
       "    <tr>\n",
       "      <th>0</th>\n",
       "      <td>161384-Baby_Scene</td>\n",
       "      <td>/home/groups/mcfrank/franchak/videos/161384-Ba...</td>\n",
       "      <td>0</td>\n",
       "      <td>/scratch/users/agrawalk/headcam-algo-output/op...</td>\n",
       "      <td>0.0</td>\n",
       "      <td>0.491558</td>\n",
       "      <td>False</td>\n",
       "      <td>True</td>\n",
       "    </tr>\n",
       "    <tr>\n",
       "      <th>1</th>\n",
       "      <td>161384-Baby_Scene</td>\n",
       "      <td>/home/groups/mcfrank/franchak/videos/161384-Ba...</td>\n",
       "      <td>1</td>\n",
       "      <td>/scratch/users/agrawalk/headcam-algo-output/op...</td>\n",
       "      <td>0.0</td>\n",
       "      <td>0.491522</td>\n",
       "      <td>False</td>\n",
       "      <td>True</td>\n",
       "    </tr>\n",
       "    <tr>\n",
       "      <th>2</th>\n",
       "      <td>161384-Baby_Scene</td>\n",
       "      <td>/home/groups/mcfrank/franchak/videos/161384-Ba...</td>\n",
       "      <td>2</td>\n",
       "      <td>/scratch/users/agrawalk/headcam-algo-output/op...</td>\n",
       "      <td>0.0</td>\n",
       "      <td>0.492931</td>\n",
       "      <td>False</td>\n",
       "      <td>True</td>\n",
       "    </tr>\n",
       "    <tr>\n",
       "      <th>3</th>\n",
       "      <td>161384-Baby_Scene</td>\n",
       "      <td>/home/groups/mcfrank/franchak/videos/161384-Ba...</td>\n",
       "      <td>3</td>\n",
       "      <td>/scratch/users/agrawalk/headcam-algo-output/op...</td>\n",
       "      <td>0.0</td>\n",
       "      <td>0.502430</td>\n",
       "      <td>False</td>\n",
       "      <td>True</td>\n",
       "    </tr>\n",
       "    <tr>\n",
       "      <th>4</th>\n",
       "      <td>161384-Baby_Scene</td>\n",
       "      <td>/home/groups/mcfrank/franchak/videos/161384-Ba...</td>\n",
       "      <td>4</td>\n",
       "      <td>/scratch/users/agrawalk/headcam-algo-output/op...</td>\n",
       "      <td>0.0</td>\n",
       "      <td>0.506469</td>\n",
       "      <td>False</td>\n",
       "      <td>True</td>\n",
       "    </tr>\n",
       "  </tbody>\n",
       "</table>\n",
       "</div>"
      ],
      "text/plain": [
       "            vid_name                                           vid_path  \\\n",
       "0  161384-Baby_Scene  /home/groups/mcfrank/franchak/videos/161384-Ba...   \n",
       "1  161384-Baby_Scene  /home/groups/mcfrank/franchak/videos/161384-Ba...   \n",
       "2  161384-Baby_Scene  /home/groups/mcfrank/franchak/videos/161384-Ba...   \n",
       "3  161384-Baby_Scene  /home/groups/mcfrank/franchak/videos/161384-Ba...   \n",
       "4  161384-Baby_Scene  /home/groups/mcfrank/franchak/videos/161384-Ba...   \n",
       "\n",
       "   frame                                            op_file  nose_conf  \\\n",
       "0      0  /scratch/users/agrawalk/headcam-algo-output/op...        0.0   \n",
       "1      1  /scratch/users/agrawalk/headcam-algo-output/op...        0.0   \n",
       "2      2  /scratch/users/agrawalk/headcam-algo-output/op...        0.0   \n",
       "3      3  /scratch/users/agrawalk/headcam-algo-output/op...        0.0   \n",
       "4      4  /scratch/users/agrawalk/headcam-algo-output/op...        0.0   \n",
       "\n",
       "   wrist_conf  face_openpose  hand_openpose  \n",
       "0    0.491558          False           True  \n",
       "1    0.491522          False           True  \n",
       "2    0.492931          False           True  \n",
       "3    0.502430          False           True  \n",
       "4    0.506469          False           True  "
      ]
     },
     "execution_count": 2,
     "metadata": {},
     "output_type": "execute_result"
    }
   ],
   "source": [
    "#Takes a minute or so to load\n",
    "frame_df = pd.read_hdf('franchak_frames_openpose.h5', key='master_frames')\n",
    "frame_df.head()"
   ]
  },
  {
   "cell_type": "code",
   "execution_count": 3,
   "metadata": {
    "collapsed": true
   },
   "outputs": [],
   "source": [
    "frame_df.to_csv('franchak_frames_openpose_master_frames.csv')"
   ]
  },
  {
   "cell_type": "code",
   "execution_count": null,
   "metadata": {
    "collapsed": true
   },
   "outputs": [],
   "source": []
  }
 ],
 "metadata": {
  "kernelspec": {
   "display_name": "Python 3",
   "language": "python",
   "name": "python3"
  },
  "language_info": {
   "codemirror_mode": {
    "name": "ipython",
    "version": 3
   },
   "file_extension": ".py",
   "mimetype": "text/x-python",
   "name": "python",
   "nbconvert_exporter": "python",
   "pygments_lexer": "ipython3",
   "version": "3.6.2"
  }
 },
 "nbformat": 4,
 "nbformat_minor": 2
}
